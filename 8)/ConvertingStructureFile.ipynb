{
 "cells": [
  {
   "cell_type": "markdown",
   "metadata": {},
   "source": [
    "pip install pymongo\n",
    "\n",
    "pip install pandas"
   ]
  },
  {
   "cell_type": "markdown",
   "metadata": {},
   "source": [
    "Connect MongoDB"
   ]
  },
  {
   "cell_type": "code",
   "execution_count": 1,
   "metadata": {},
   "outputs": [],
   "source": [
    "from pymongo import MongoClient\n",
    "import json\n",
    "import datetime\n",
    "import glob"
   ]
  },
  {
   "cell_type": "code",
   "execution_count": 2,
   "metadata": {},
   "outputs": [],
   "source": [
    "db_url=\"mongodb://localhost\"\n",
    "db_host=\"localhost\"\n",
    "db_port=27017\n",
    "db_name=\"mydb\"\n",
    "client = MongoClient(db_url, db_port)\n",
    "db = client[db_name]"
   ]
  },
  {
   "cell_type": "markdown",
   "metadata": {},
   "source": [
    "Load paths"
   ]
  },
  {
   "cell_type": "code",
   "execution_count": 4,
   "metadata": {},
   "outputs": [],
   "source": [
    "path = \"..\\\\RumourTweetDatasets\""
   ]
  },
  {
   "cell_type": "code",
   "execution_count": 5,
   "metadata": {},
   "outputs": [],
   "source": [
    "topic = \"prince-toronto\""
   ]
  },
  {
   "cell_type": "code",
   "execution_count": 6,
   "metadata": {},
   "outputs": [],
   "source": [
    "rumourPaths = path + \"\\\\\" + topic + \"\\\\*\""
   ]
  },
  {
   "cell_type": "code",
   "execution_count": 7,
   "metadata": {},
   "outputs": [
    {
     "data": {
      "text/plain": [
       "'..\\\\RumourTweetDatasets\\\\prince-toronto\\\\*'"
      ]
     },
     "execution_count": 7,
     "metadata": {},
     "output_type": "execute_result"
    }
   ],
   "source": [
    "rumourPaths"
   ]
  },
  {
   "cell_type": "code",
   "execution_count": 8,
   "metadata": {},
   "outputs": [],
   "source": [
    "tweetsFolder = []\n",
    "for file in glob.iglob(rumourPaths, recursive=True):\n",
    "    \n",
    "    tweetsFolder.append(file)"
   ]
  },
  {
   "cell_type": "code",
   "execution_count": 9,
   "metadata": {},
   "outputs": [
    {
     "data": {
      "text/plain": [
       "['..\\\\RumourTweetDatasets\\\\prince-toronto\\\\529540733020405760',\n",
       " '..\\\\RumourTweetDatasets\\\\prince-toronto\\\\529653029747064832',\n",
       " '..\\\\RumourTweetDatasets\\\\prince-toronto\\\\529654186791944192',\n",
       " '..\\\\RumourTweetDatasets\\\\prince-toronto\\\\529660296080916480',\n",
       " '..\\\\RumourTweetDatasets\\\\prince-toronto\\\\529687410611728384',\n",
       " '..\\\\RumourTweetDatasets\\\\prince-toronto\\\\529689679411810304',\n",
       " '..\\\\RumourTweetDatasets\\\\prince-toronto\\\\529695367680761856',\n",
       " '..\\\\RumourTweetDatasets\\\\prince-toronto\\\\529695483661664257',\n",
       " '..\\\\RumourTweetDatasets\\\\prince-toronto\\\\529713467184676864',\n",
       " '..\\\\RumourTweetDatasets\\\\prince-toronto\\\\529716453792956416',\n",
       " '..\\\\RumourTweetDatasets\\\\prince-toronto\\\\529720273285566464',\n",
       " '..\\\\RumourTweetDatasets\\\\prince-toronto\\\\529739968470867968']"
      ]
     },
     "execution_count": 9,
     "metadata": {},
     "output_type": "execute_result"
    }
   ],
   "source": [
    "tweetsFolder"
   ]
  },
  {
   "cell_type": "markdown",
   "metadata": {},
   "source": [
    "Convert structure File "
   ]
  },
  {
   "cell_type": "code",
   "execution_count": 10,
   "metadata": {},
   "outputs": [],
   "source": [
    "def DFS(folder, keyOfStructure, structure):\n",
    "    \n",
    "    replyingFile = open(folder +  \"\\\\\" + keyOfStructure + \".json\")\n",
    "    replyingJson = json.load(replyingFile)\n",
    "   \n",
    "    if isinstance(structure,(list)) == True :\n",
    "        \n",
    "        replyingJson['reply_by'] = []\n",
    "        \n",
    "        return replyingJson\n",
    "    \n",
    "        \n",
    "    rpList = []\n",
    "    \n",
    "    for key, value in structure.items():\n",
    "        \n",
    "        rpList.append(DFS(folder, key, value))\n",
    "        \n",
    "    replyingJson['reply_by'] = rpList\n",
    "        \n",
    "    return replyingJson"
   ]
  },
  {
   "cell_type": "code",
   "execution_count": 11,
   "metadata": {},
   "outputs": [],
   "source": [
    "reactionList = []\n",
    "\n",
    "for fd in tweetsFolder:\n",
    "    \n",
    "    structureFile = open(fd + \"\\\\structure.json\")\n",
    "    structureObj = json.load(structureFile)\n",
    "    \n",
    "    sourceFile = open(fd +\"\\\\\"+\"source-tweets\" +\"\\\\\" + list(structureObj.keys())[0] + \".json\")\n",
    "    sourceTweetObj = json.load(sourceFile)\n",
    "    \n",
    "    reactionsPaths = fd + \"\\\\\" + \"reactions\" \n",
    "    \n",
    "    \n",
    "    \n",
    "    if len(list(structureObj.keys())[0]) == 0:\n",
    "        sourceTweetObj['reply_by'] = []\n",
    "\n",
    "    else:\n",
    "        rpList = []\n",
    "        for key, value in structureObj.get(list(structureObj.keys())[0]).items():\n",
    "            \n",
    "            rpList.append(DFS(reactionsPaths, key, value))\n",
    "            \n",
    "        sourceTweetObj['reply_by'] = rpList\n",
    "    \n",
    "    reactionList.append(sourceTweetObj)"
   ]
  },
  {
   "cell_type": "markdown",
   "metadata": {},
   "source": [
    "insert reaction list into MongoDB"
   ]
  },
  {
   "cell_type": "code",
   "execution_count": 12,
   "metadata": {},
   "outputs": [
    {
     "data": {
      "text/plain": [
       "12"
      ]
     },
     "execution_count": 12,
     "metadata": {},
     "output_type": "execute_result"
    }
   ],
   "source": [
    "reationCol = db[\"reactions\"] \n",
    "reationCol.drop()\n",
    "reationCol.insert_many(reactionList)\n",
    "reationCol.count_documents({})"
   ]
  },
  {
   "cell_type": "code",
   "execution_count": null,
   "metadata": {},
   "outputs": [],
   "source": []
  }
 ],
 "metadata": {
  "kernelspec": {
   "display_name": "Python 3",
   "language": "python",
   "name": "python3"
  },
  "language_info": {
   "codemirror_mode": {
    "name": "ipython",
    "version": 3
   },
   "file_extension": ".py",
   "mimetype": "text/x-python",
   "name": "python",
   "nbconvert_exporter": "python",
   "pygments_lexer": "ipython3",
   "version": "3.8.6"
  }
 },
 "nbformat": 4,
 "nbformat_minor": 4
}
